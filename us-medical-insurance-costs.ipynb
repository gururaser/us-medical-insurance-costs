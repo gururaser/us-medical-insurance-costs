{
 "cells": [
  {
   "cell_type": "markdown",
   "id": "50409e8c",
   "metadata": {},
   "source": [
    "# U.S. Medical Insurance Costs\n",
    "\n",
    "In this project, a **CSV** file with medical insurance costs will be investigated using Python fundamentals. The goal with this project will be to analyze various attributes within **insurance.csv** to learn more about the patient information in the file and gain insight into potential use cases for the dataset."
   ]
  },
  {
   "cell_type": "code",
   "execution_count": 4,
   "id": "80c6bdfb",
   "metadata": {},
   "outputs": [],
   "source": [
    "# import csv library\n",
    "import csv"
   ]
  },
  {
   "cell_type": "markdown",
   "id": "975cfb45",
   "metadata": {},
   "source": [
    "To start, all necessary libraries must be imported. For this project the only library needed is the `csv` library in order to work with the **insurance.csv** data. There are other potential libraries that could help with this project; however, for this analysis, using just the `csv` library will suffice."
   ]
  },
  {
   "cell_type": "markdown",
   "id": "c4af88bb",
   "metadata": {},
   "source": [
    "**insurance.csv** contains the following columns:\n",
    "* Patient Age\n",
    "* Patient Sex \n",
    "* Patient BMI\n",
    "* Patient Number of Children\n",
    "* Patient Smoking Status\n",
    "* Patient U.S Geopraphical Region\n",
    "* Patient Yearly Medical Insurance Cost\n",
    "\n",
    "There are no signs of missing data. To store this information, seven empty lists will be created hold each individual column of data from **insurance.csv**.\n"
   ]
  },
  {
   "cell_type": "code",
   "execution_count": 5,
   "id": "3047790c",
   "metadata": {},
   "outputs": [],
   "source": [
    "#Create empty lists for the various attributes in insurance.csv\n",
    "age = []\n",
    "sex = []\n",
    "bmi = []\n",
    "children = []\n",
    "smoker = []\n",
    "region = []\n",
    "charges = []"
   ]
  },
  {
   "cell_type": "markdown",
   "id": "4151b6ca",
   "metadata": {},
   "source": [
    "The helper function below was created to make loading data into the lists as efficient as possible. Without this function, one would have to open insurance.csv and rewrite the for loop seven times; \n",
    "however, with this function, one can simply call load_list_data() each time as shown below."
   ]
  },
  {
   "cell_type": "code",
   "execution_count": 6,
   "id": "729931c8",
   "metadata": {},
   "outputs": [],
   "source": [
    "# helper function to load csv data\n",
    "def load_list_data():\n",
    "    with open('insurance.csv','r') as file:\n",
    "        reader = csv.DictReader(file)\n",
    "        \n",
    "        for row in reader:\n",
    "            age.append(int(row['age']))\n",
    "            sex.append(row['sex'])\n",
    "            bmi.append(float(row['bmi']))\n",
    "            children.append(int(row['children']))\n",
    "            smoker.append(row['smoker'])\n",
    "            region.append(row['region'])\n",
    "            charges.append(float(row['charges']))\n",
    "           \n",
    "load_list_data()\n",
    "\n"
   ]
  },
  {
   "cell_type": "code",
   "execution_count": 9,
   "id": "7a4fc317",
   "metadata": {},
   "outputs": [
    {
     "name": "stdout",
     "output_type": "stream",
     "text": [
      "[19, 18, 28, 33, 32]\n",
      "['female', 'male', 'male', 'male', 'male']\n",
      "[27.9, 33.77, 33.0, 22.705, 28.88]\n",
      "[0, 1, 3, 0, 0]\n",
      "['yes', 'no', 'no', 'no', 'no']\n",
      "['southwest', 'southeast', 'southeast', 'northwest', 'northwest']\n",
      "[16884.924, 1725.5523, 4449.462, 21984.47061, 3866.8552]\n"
     ]
    }
   ],
   "source": [
    "# look at the data in insurance_csv_dict\n",
    "# Total 1338 Data\n",
    "\n",
    "print(age[:5])\n",
    "print(sex[:5])\n",
    "print(bmi[:5])\n",
    "print(children[:5])\n",
    "print(smoker[:5])\n",
    "print(region[:5])\n",
    "print(charges[:5])"
   ]
  },
  {
   "cell_type": "markdown",
   "id": "6affc28d",
   "metadata": {},
   "source": [
    "Now that all the data from **insurance.csv** neatly organized into labeled lists, the analysis can be started. This is where one must plan out what to investigate and how to perform the analysis. There are many aspects of the data that could be looked into. The following operations will be implemented:\n",
    "* find average age of the patients\n",
    "* return the number of males vs. females counted in the dataset\n",
    "* find geographical location of the patients\n",
    "* return the average yearly medical charges of the patients\n",
    "* return the effect of smoking on insurance costs\n",
    "* return total insurance charges by age\n",
    "* creating a dictionary that contains all patient information\n",
    "\n",
    "To perform these inspections, a class called `PatientsInfo` has been built out which contains fives methods:\n",
    "* `analyze_ages()`\n",
    "* `analyze_sexes()`\n",
    "* `unique_regions()`\n",
    "* `average_charges()`\n",
    "* `smoking_effects()`\n",
    "* `analyze_charges_by_age()`\n",
    "* `create_dictionary()`\n",
    "\n",
    "The class has been built out below. "
   ]
  },
  {
   "cell_type": "code",
   "execution_count": 11,
   "id": "2d7571ce",
   "metadata": {},
   "outputs": [],
   "source": [
    "class PatientsInfo:\n",
    "    def __init__(self,age,sex,bmi,children,smoker,region,charges):\n",
    "        self.age = age\n",
    "        self.sex = sex\n",
    "        self.bmi = bmi\n",
    "        self.children = children\n",
    "        self.smoker = smoker\n",
    "        self.region = region\n",
    "        self.charges = charges\n",
    "        self.data_dict = {}\n",
    "    \n",
    "    def analyze_ages(self):\n",
    "        # Find average age of the patients\n",
    "        total_age = 0\n",
    "        for age in self.age:\n",
    "            total_age += age\n",
    "        \n",
    "        return f\"Average Age : {total_age / len(self.age)}\"\n",
    "            \n",
    "    \n",
    "    def analyze_sexes(self):\n",
    "        # return the number of males vs. females counted in the dataset\n",
    "        # and more\n",
    "        sex_counts = {}\n",
    "        total_age_m = 0\n",
    "        total_age_f = 0\n",
    "        total_children_m = 0\n",
    "        total_children_f = 0\n",
    "        total_bmi_m = 0\n",
    "        total_bmi_f = 0\n",
    "        total_charges_m = 0\n",
    "        total_charges_f = 0\n",
    "        total_smoker_m = 0\n",
    "        total_smoker_f = 0\n",
    "        \n",
    "        avg_age_m = 0\n",
    "        avg_age_f = 0\n",
    "        avg_children_m = 0\n",
    "        avg_children_f = 0\n",
    "        avg_bmi_m = 0\n",
    "        avg_bmi_f = 0\n",
    "        avg_charges_m = 0\n",
    "        avg_charges_f = 0\n",
    "        avg_smoker_m = 0\n",
    "        avg_smoker_f = 0\n",
    "        \n",
    "\n",
    "        for i in self.sex:\n",
    "            sex_counts[i] = self.sex.count(i)\n",
    "            \n",
    "        datas = self.create_dictionary()\n",
    "        \n",
    "        for keys,values in datas.items():\n",
    "            if values['sex'] == 'female':\n",
    "                total_age_f += values['age']\n",
    "                total_children_f += values['children']\n",
    "                total_bmi_f += values['bmi']\n",
    "                total_charges_f += values['charges']\n",
    "                total_smoker_f += values['smoker'].count('yes')\n",
    "            else:\n",
    "                total_age_m += values['age']\n",
    "                total_children_m += values['children']\n",
    "                total_bmi_m += values['bmi']\n",
    "                total_charges_m += values['charges']\n",
    "                total_smoker_m += values['smoker'].count('yes')\n",
    "       \n",
    "        avg_age_f = total_age_f / sex_counts['female']\n",
    "        avg_age_m = total_age_m / sex_counts['male']\n",
    "        avg_children_f = total_children_f / sex_counts['female']\n",
    "        avg_children_m = total_children_m / sex_counts['male']\n",
    "        avg_bmi_f = total_bmi_f / sex_counts['female']\n",
    "        avg_bmi_m = total_bmi_m / sex_counts['male']\n",
    "        avg_charges_f = total_charges_f / sex_counts['female']\n",
    "        avg_charges_m = total_charges_m / sex_counts['male'] \n",
    "    \n",
    "    \n",
    "        percentage_of_f = 100 * sex_counts['female'] / (sex_counts['female'] + sex_counts['male']) \n",
    "        percentage_of_m = 100 - percentage_of_f\n",
    "        \n",
    "        info_message = f\"There is {sex_counts['female']} female patient, {percentage_of_f:.2f}% of all patients and {sex_counts['male']} male patient, {percentage_of_m:.2f}% of all patients.\"\n",
    "        \n",
    "        return avg_age_f,avg_age_m,avg_children_f,avg_children_m,avg_bmi_f,avg_bmi_m,avg_charges_f,avg_charges_m,info_message\n",
    "        \n",
    "    \n",
    "    def unique_regions(self):\n",
    "        #return unique regions and how many times those regions are counted\n",
    "        region_counts = {}\n",
    "        \n",
    "        for region in self.region:\n",
    "            region_counts[region] = self.region.count(region)\n",
    "        \n",
    "        return region_counts\n",
    "    \n",
    "    def average_charges(self):\n",
    "        #return the average yearly medical charges of the patients\n",
    "        total_charges = 0\n",
    "        for charge in self.charges:\n",
    "            total_charges += charge\n",
    "        \n",
    "        return f\"Average Charge : {(total_charges / len(self.charges)):.2f}\"\n",
    "    \n",
    "    \n",
    "    def smoking_effect(self):\n",
    "        # returns the effect of smoking on insurance costs\n",
    "        total_smoker_insurance_cost = 0\n",
    "        total_nonsmoker_insurance_cost = 0\n",
    "        \n",
    "        total_smoker = 0\n",
    "        total_nonsmoker = 0\n",
    "        \n",
    "        data = self.create_dictionary()\n",
    "        for keys,values in data.items():\n",
    "            if values[\"smoker\"] == \"yes\":\n",
    "                total_smoker_insurance_cost += values[\"charges\"]\n",
    "                total_smoker += 1\n",
    "            else:\n",
    "                total_nonsmoker_insurance_cost += values[\"charges\"]\n",
    "                total_nonsmoker += 1\n",
    "        \n",
    "        avg_smoker_insurance_cost = total_smoker_insurance_cost / total_smoker\n",
    "        avg_nonsmoker_insurance_cost = total_nonsmoker_insurance_cost / total_nonsmoker\n",
    "        \n",
    "        percent_smokers = total_smoker / (total_smoker + total_nonsmoker) * 100\n",
    "        percent_nonsmokers = 100 - percent_smokers\n",
    "        percent_more =  (avg_smoker_insurance_cost - avg_nonsmoker_insurance_cost) / avg_smoker_insurance_cost * 100 \n",
    "        \n",
    "        return total_smoker,percent_smokers,total_nonsmoker,percent_nonsmokers,avg_smoker_insurance_cost,avg_nonsmoker_insurance_cost,percent_more\n",
    "    \n",
    "    def analyze_charges_by_age(self):\n",
    "        # returns total insurance charges by age\n",
    "        charges_by_age = {}\n",
    "        \n",
    "        data = self.create_dictionary()\n",
    "        for keys,values in data.items():\n",
    "            age = values[\"age\"]\n",
    "            charges = values[\"charges\"]\n",
    "            \n",
    "            if age in charges_by_age:\n",
    "                charges_by_age[age] += charges\n",
    "            else:\n",
    "                charges_by_age[age] = charges\n",
    "        \n",
    "        return charges_by_age\n",
    "    \n",
    "    \n",
    "    \n",
    "    def create_dictionary(self):\n",
    "        \n",
    "        for i in range(len(self.age)):\n",
    "            self.data_dict[i] = {\n",
    "                'age' : self.age[i],\n",
    "                'sex' : self.sex[i],\n",
    "                'bmi' : self.bmi[i],\n",
    "                'children' : self.children[i],\n",
    "                'smoker' : self.smoker[i],\n",
    "                'region' : self.region[i],\n",
    "                'charges' : self.charges[i]\n",
    "            }\n",
    "        return self.data_dict\n",
    "    "
   ]
  },
  {
   "cell_type": "markdown",
   "id": "52b845b1",
   "metadata": {},
   "source": [
    "The next step is to create an instance of the class called `patient_info`. With this instance, each method can be used to see the results of the analysis."
   ]
  },
  {
   "cell_type": "code",
   "execution_count": 15,
   "id": "ce21dac6",
   "metadata": {},
   "outputs": [],
   "source": [
    "patient_info = PatientsInfo(age,sex,bmi,children,smoker,region,charges)\n",
    "#patient_info.create_dictionary()"
   ]
  },
  {
   "cell_type": "code",
   "execution_count": 12,
   "id": "3eb04c53",
   "metadata": {},
   "outputs": [
    {
     "data": {
      "text/plain": [
       "'Average Age : 39.20702541106129'"
      ]
     },
     "execution_count": 12,
     "metadata": {},
     "output_type": "execute_result"
    }
   ],
   "source": [
    "patient_info.analyze_ages()\n",
    "\n"
   ]
  },
  {
   "cell_type": "markdown",
   "id": "13f2ee47",
   "metadata": {},
   "source": [
    "The average age of the patients in **insurance.csv** is about 39 years old. "
   ]
  },
  {
   "cell_type": "code",
   "execution_count": 44,
   "id": "ef97fde9",
   "metadata": {},
   "outputs": [
    {
     "name": "stdout",
     "output_type": "stream",
     "text": [
      "Average Female Age : 39.50\n",
      "Average Male Age : 38.92\n",
      "Average number of children in females : 1.07\n",
      "Average number of children in males : 1.12\n",
      "Average BMI in females : 30.38\n",
      "Average BMI in males : 30.94\n",
      "Average charges in females : 12569.58\n",
      "Average charges in males : 13956.75\n",
      "There is 662 female patient, 49.48% of all patients and 676 male patient, 50.52% of all patients.\n"
     ]
    }
   ],
   "source": [
    "patient_info.analyze_sexes()\n",
    "print(f\"Average Female Age : {patient_info.analyze_sexes()[0]:.2f}\")\n",
    "print(f\"Average Male Age : {patient_info.analyze_sexes()[1]:.2f}\")\n",
    "print(f\"Average number of children in females : {patient_info.analyze_sexes()[2]:.2f}\")\n",
    "print(f\"Average number of children in males : {patient_info.analyze_sexes()[3]:.2f}\")\n",
    "print(f\"Average BMI in females : {patient_info.analyze_sexes()[4]:.2f}\")\n",
    "print(f\"Average BMI in males : {patient_info.analyze_sexes()[5]:.2f}\")\n",
    "print(f\"Average charges in females : {patient_info.analyze_sexes()[6]:.2f}\")\n",
    "print(f\"Average charges in males : {patient_info.analyze_sexes()[7]:.2f}\")\n",
    "print(patient_info.analyze_sexes()[-1])"
   ]
  },
  {
   "cell_type": "markdown",
   "id": "816b11de",
   "metadata": {},
   "source": [
    "There are four unique geographical regions in this dataset, and it is important to note that all the patients come from the United States."
   ]
  },
  {
   "cell_type": "code",
   "execution_count": 24,
   "id": "e1ab0d38",
   "metadata": {},
   "outputs": [
    {
     "data": {
      "text/plain": [
       "{'southwest': 325, 'southeast': 364, 'northwest': 325, 'northeast': 324}"
      ]
     },
     "execution_count": 24,
     "metadata": {},
     "output_type": "execute_result"
    }
   ],
   "source": [
    "patient_info.unique_regions()"
   ]
  },
  {
   "cell_type": "code",
   "execution_count": 25,
   "id": "5d6790c2",
   "metadata": {},
   "outputs": [
    {
     "data": {
      "text/plain": [
       "'Average Charge : 13270.42'"
      ]
     },
     "execution_count": 25,
     "metadata": {},
     "output_type": "execute_result"
    }
   ],
   "source": [
    "patient_info.average_charges()"
   ]
  },
  {
   "cell_type": "markdown",
   "id": "579a9deb",
   "metadata": {},
   "source": [
    "The average yearly medical insurance charge per individual is 13270 US dollars."
   ]
  },
  {
   "cell_type": "code",
   "execution_count": 77,
   "id": "8a15c64c",
   "metadata": {},
   "outputs": [
    {
     "name": "stdout",
     "output_type": "stream",
     "text": [
      "Total number of smokers : 274 (20.48%)\n",
      "Total number of nonsmokers : 1064 (79.52%)\n",
      "Average smoker insurance costs : 32050.23\n",
      "Average non-smoker insurance costs : 8434.27\n",
      "The insurance costs of smokers are 73.68% more than non-smokers.\n"
     ]
    }
   ],
   "source": [
    "patient_info.smoking_effect()\n",
    "print(f\"Total number of smokers : {patient_info.smoking_effect()[0]} ({patient_info.smoking_effect()[1]:.2f}%)\")\n",
    "print(f\"Total number of nonsmokers : {patient_info.smoking_effect()[2]} ({patient_info.smoking_effect()[3]:.2f}%)\")\n",
    "print(f\"Average smoker insurance costs : {patient_info.smoking_effect()[4]:.2f}\")\n",
    "print(f\"Average non-smoker insurance costs : {patient_info.smoking_effect()[5]:.2f}\")\n",
    "print(f\"The insurance costs of smokers are {patient_info.smoking_effect()[6]:.2f}% more than non-smokers.\")"
   ]
  },
  {
   "cell_type": "markdown",
   "id": "71cafba6",
   "metadata": {},
   "source": [
    "Above, there is an analysis of the insurance costs paid by smokers and non -smokers."
   ]
  },
  {
   "cell_type": "code",
   "execution_count": 80,
   "id": "38706c66",
   "metadata": {},
   "outputs": [
    {
     "data": {
      "text/plain": [
       "{19: 662857.8347499999,\n",
       " 18: 488949.0113890001,\n",
       " 28: 253937.25179999994,\n",
       " 33: 321139.85766999994,\n",
       " 32: 239727.80756000004,\n",
       " 31: 275318.47547999996,\n",
       " 46: 415935.12851999997,\n",
       " 37: 450497.79693,\n",
       " 60: 505526.62567,\n",
       " 25: 275474.2287,\n",
       " 62: 440768.70119,\n",
       " 23: 347754.9611099999,\n",
       " 56: 390663.41175,\n",
       " 27: 341171.64820000005,\n",
       " 52: 529431.8218599999,\n",
       " 30: 343415.9796699999,\n",
       " 34: 301951.73114,\n",
       " 59: 472396.73828999995,\n",
       " 63: 457354.96460000006,\n",
       " 55: 420278.1827,\n",
       " 22: 280362.11845,\n",
       " 26: 171747.10864,\n",
       " 35: 282679.55078000005,\n",
       " 24: 298144.44694,\n",
       " 41: 260651.13254,\n",
       " 38: 202568.34185,\n",
       " 36: 305111.90345,\n",
       " 21: 132453.00123,\n",
       " 48: 424342.51290999993,\n",
       " 40: 317850.78537,\n",
       " 58: 346973.20279,\n",
       " 53: 448586.06114000006,\n",
       " 43: 520216.52363999997,\n",
       " 64: 512061.6784199999,\n",
       " 20: 294631.23435000004,\n",
       " 61: 506562.52499999997,\n",
       " 44: 428203.70785,\n",
       " 57: 427626.8165,\n",
       " 29: 281614.28563000006,\n",
       " 45: 430075.79583,\n",
       " 54: 525239.30131,\n",
       " 49: 355488.1754,\n",
       " 47: 511965.9882,\n",
       " 51: 454785.4201500001,\n",
       " 42: 352648.04406,\n",
       " 50: 454227.09572000016,\n",
       " 39: 294456.07363}"
      ]
     },
     "execution_count": 80,
     "metadata": {},
     "output_type": "execute_result"
    }
   ],
   "source": [
    "patient_info.analyze_charges_by_age()"
   ]
  },
  {
   "cell_type": "markdown",
   "id": "6460ff7b",
   "metadata": {},
   "source": [
    "Above there are total insurance costs paid by different age groups."
   ]
  }
 ],
 "metadata": {
  "kernelspec": {
   "display_name": "Python 3 (ipykernel)",
   "language": "python",
   "name": "python3"
  },
  "language_info": {
   "codemirror_mode": {
    "name": "ipython",
    "version": 3
   },
   "file_extension": ".py",
   "mimetype": "text/x-python",
   "name": "python",
   "nbconvert_exporter": "python",
   "pygments_lexer": "ipython3",
   "version": "3.9.13"
  }
 },
 "nbformat": 4,
 "nbformat_minor": 5
}
